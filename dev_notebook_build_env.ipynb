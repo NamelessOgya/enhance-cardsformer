{
 "cells": [
  {
   "cell_type": "code",
   "execution_count": 1,
   "id": "5ee4ff02-a412-4fd2-ba9a-de3af508a2ee",
   "metadata": {},
   "outputs": [],
   "source": [
    "import os\n",
    "import subprocess"
   ]
  },
  {
   "cell_type": "code",
   "execution_count": 2,
   "id": "91187415-81d5-481a-8c12-f130c3ef0a01",
   "metadata": {},
   "outputs": [],
   "source": [
    "# build cs file\n",
    "cs_file = \"./bot/DrunkenAggroWarriorAgent.cs\""
   ]
  },
  {
   "cell_type": "code",
   "execution_count": 3,
   "id": "74138e25-009a-4665-aa87-ebf2103307b1",
   "metadata": {},
   "outputs": [
    {
     "name": "stdout",
     "output_type": "stream",
     "text": [
      "\u001b[?1h\u001b=8.0.404\n"
     ]
    }
   ],
   "source": [
    "!dotnet --version"
   ]
  },
  {
   "cell_type": "code",
   "execution_count": 4,
   "id": "7622b552-a3d5-410c-a1f6-a1f552edde87",
   "metadata": {},
   "outputs": [],
   "source": [
    "# # SabberStoneCore.dll\n",
    "# csproj_path = \"HearthstoneAICompetition/SabberStoneCore/SabberStoneCore.csproj\"\n",
    "\n",
    "# # NuGet パッケージを復元するコマンド\n",
    "# restore_command = [\"dotnet\", \"restore\", csproj_path]\n",
    "\n",
    "# # 実行\n",
    "# try:\n",
    "#     result = subprocess.run(restore_command, capture_output=True, text=True, check=True)\n",
    "#     print(\"NuGet パッケージの復元に成功しました:\")\n",
    "#     print(result.stdout)\n",
    "# except subprocess.CalledProcessError as e:\n",
    "#     print(\"NuGet パッケージの復元に失敗しました:\")\n",
    "#     print(e.stderr)\n",
    "\n",
    "# command = [\n",
    "#     \"dotnet\", \n",
    "#     \"build\",\n",
    "#     \"HearthstoneAICompetition/SabberStoneCore/SabberStoneCore.csproj\",\n",
    "#     \"-c\", \"Release\",\n",
    "#     \"-o\", \"./dll_files/core\",\n",
    "#     \"/p:TreatWarningsAsErrors=false\"\n",
    "# ]\n",
    "\n",
    "\n",
    "# result = subprocess.run(command, capture_output=True, text=True)\n",
    "\n",
    "# print(\"Return code:\", result.returncode)\n",
    "# print(\"STDOUT:\", result.stdout)\n",
    "# print(\"STDERR:\", result.stderr)\n"
   ]
  },
  {
   "cell_type": "code",
   "execution_count": 5,
   "id": "65632d52-a0c1-4e71-8653-d52494a1a0bc",
   "metadata": {},
   "outputs": [],
   "source": [
    "# # SabberStoneBasicAI.dll\n",
    "# # プロジェクトファイル (.csproj) のパス\n",
    "# csproj_path = \"HearthstoneAICompetition/core-extensions/SabberStoneBasicAI/SabberStoneAICompetition.csproj\"\n",
    "\n",
    "# # NuGet パッケージを復元するコマンド\n",
    "# restore_command = [\"dotnet\", \"restore\", csproj_path]\n",
    "\n",
    "# # 実行\n",
    "# try:\n",
    "#     result = subprocess.run(restore_command, capture_output=True, text=True, check=True)\n",
    "#     print(\"NuGet パッケージの復元に成功しました:\")\n",
    "#     print(result.stdout)\n",
    "# except subprocess.CalledProcessError as e:\n",
    "#     print(\"NuGet パッケージの復元に失敗しました:\")\n",
    "#     print(e.stderr)\n",
    "\n",
    "# command = [\n",
    "#     \"dotnet\", \n",
    "#     \"build\",\n",
    "#     csproj_path,\n",
    "#     \"-c\", \"Release\",\n",
    "#     \"-o\", \"./dll_files/basic_ai\",\n",
    "#     \"/p:TreatWarningsAsErrors=false\"\n",
    "# ]\n",
    "\n",
    "\n",
    "# result = subprocess.run(command, capture_output=True, text=True)\n",
    "\n",
    "# print(\"Return code:\", result.returncode)\n",
    "# print(\"STDOUT:\", result.stdout)\n",
    "# print(\"STDERR:\", result.stderr)\n"
   ]
  },
  {
   "cell_type": "code",
   "execution_count": 6,
   "id": "693b4638-7d5c-40e9-b0df-818d15e53c46",
   "metadata": {},
   "outputs": [],
   "source": [
    "# # プロジェクトファイルの作成\n",
    "# command = [\n",
    "#     \"dotnet\",\n",
    "#     \"new\", \"classlib\", \n",
    "#     \"-o\", \"./dll_files/agent\"\n",
    "# ]\n",
    "# result = subprocess.run(command, capture_output=True, text=True)\n",
    "\n",
    "# result = subprocess.run([\"mv\", \"./dll_files/DrunkenAggroWarriorAgent.cs\", \"./dll_files/agent/\"], capture_output=True, text=True)"
   ]
  },
  {
   "cell_type": "code",
   "execution_count": 7,
   "id": "e5c8ea97-034a-4329-9cf4-8b15fa1469c9",
   "metadata": {},
   "outputs": [],
   "source": [
    "!rm -rf ./HearthstoneAICompetition/core-extensions/SabberStoneBasicAI/obj"
   ]
  },
  {
   "cell_type": "code",
   "execution_count": 8,
   "id": "6907878e-aec0-4650-a0f3-2265c37a7364",
   "metadata": {},
   "outputs": [
    {
     "name": "stdout",
     "output_type": "stream",
     "text": [
      "Return code: 0\n",
      "STDOUT: Build started 01/02/2025 13:56:39.\n",
      "     1>Project \"/home/s2430014/research/enhance-cardsformer-dev/HearthstoneAICompetition/core-extensions/SabberStoneBasicAI/SabberStoneAICompetition.csproj\" on node 1 (Clean target(s)).\n",
      "     1>/usr/share/dotnet/sdk/8.0.404/Sdks/Microsoft.NET.Sdk/targets/Microsoft.NET.EolTargetFrameworks.targets(32,5): warning NETSDK1138: The target framework 'netcoreapp2.1' is out of support and will not receive security updates in the future. Please refer to https://aka.ms/dotnet-core-support for more information about the support policy. [/home/s2430014/research/enhance-cardsformer-dev/HearthstoneAICompetition/core-extensions/SabberStoneBasicAI/SabberStoneAICompetition.csproj]\n",
      "     1>CoreClean:\n",
      "         Creating directory \"obj/Debug/netcoreapp2.1/\".\n",
      "     1>Done Building Project \"/home/s2430014/research/enhance-cardsformer-dev/HearthstoneAICompetition/core-extensions/SabberStoneBasicAI/SabberStoneAICompetition.csproj\" (Clean target(s)).\n",
      "\n",
      "Build succeeded.\n",
      "\n",
      "       \"/home/s2430014/research/enhance-cardsformer-dev/HearthstoneAICompetition/core-extensions/SabberStoneBasicAI/SabberStoneAICompetition.csproj\" (Clean target) (1) ->\n",
      "       (_CheckForEolTargetFrameworks target) -> \n",
      "         /usr/share/dotnet/sdk/8.0.404/Sdks/Microsoft.NET.Sdk/targets/Microsoft.NET.EolTargetFrameworks.targets(32,5): warning NETSDK1138: The target framework 'netcoreapp2.1' is out of support and will not receive security updates in the future. Please refer to https://aka.ms/dotnet-core-support for more information about the support policy. [/home/s2430014/research/enhance-cardsformer-dev/HearthstoneAICompetition/core-extensions/SabberStoneBasicAI/SabberStoneAICompetition.csproj]\n",
      "\n",
      "    1 Warning(s)\n",
      "    0 Error(s)\n",
      "\n",
      "Time Elapsed 00:00:01.07\n",
      "\n",
      "STDERR: \n"
     ]
    }
   ],
   "source": [
    "result = subprocess.run([\"dotnet\", \"restore\"], capture_output=True, text=True)\n",
    "result = subprocess.run([\"dotnet\", \"clean\", \"./HearthstoneAICompetition/core-extensions/SabberStoneBasicAI\"], capture_output=True, text=True)\n",
    "\n",
    "print(\"Return code:\", result.returncode)\n",
    "print(\"STDOUT:\", result.stdout)\n",
    "print(\"STDERR:\", result.stderr)"
   ]
  },
  {
   "cell_type": "code",
   "execution_count": 9,
   "id": "c28dea54-a6c8-46cc-8113-6c066636329c",
   "metadata": {
    "scrolled": true
   },
   "outputs": [
    {
     "name": "stdout",
     "output_type": "stream",
     "text": [
      "Return code: 0\n",
      "STDOUT:   Determining projects to restore...\n",
      "/usr/share/dotnet/sdk/8.0.404/Sdks/Microsoft.NET.Sdk/targets/Microsoft.NET.EolTargetFrameworks.targets(32,5): warning NETSDK1138: The target framework 'netcoreapp2.1' is out of support and will not receive security updates in the future. Please refer to https://aka.ms/dotnet-core-support for more information about the support policy. [/home/s2430014/research/enhance-cardsformer-dev/HearthstoneAICompetition/core-extensions/SabberStoneBasicAI/SabberStoneAICompetition.csproj]\n",
      "/usr/share/dotnet/sdk/8.0.404/Sdks/Microsoft.NET.Sdk/targets/Microsoft.NET.EolTargetFrameworks.targets(32,5): warning NETSDK1138: The target framework 'netcoreapp2.1' is out of support and will not receive security updates in the future. Please refer to https://aka.ms/dotnet-core-support for more information about the support policy. [/home/s2430014/research/enhance-cardsformer-dev/HearthstoneAICompetition/core-extensions/SabberStoneBasicAI/SabberStoneAICompetition.csproj]\n",
      "/home/s2430014/research/enhance-cardsformer-dev/HearthstoneAICompetition/SabberStoneCore/SabberStoneCore.csproj : warning NU1903: Package 'Microsoft.NETCore.App' 2.1.0 has a known high severity vulnerability, https://github.com/advisories/GHSA-2xjx-v99w-gqf3 [/home/s2430014/research/enhance-cardsformer-dev/HearthstoneAICompetition/core-extensions/SabberStoneBasicAI/SabberStoneAICompetition.csproj]\n",
      "/home/s2430014/research/enhance-cardsformer-dev/HearthstoneAICompetition/SabberStoneCore/SabberStoneCore.csproj : warning NU1902: Package 'Microsoft.NETCore.App' 2.1.0 has a known moderate severity vulnerability, https://github.com/advisories/GHSA-3gp9-h8hw-pxpw [/home/s2430014/research/enhance-cardsformer-dev/HearthstoneAICompetition/core-extensions/SabberStoneBasicAI/SabberStoneAICompetition.csproj]\n",
      "/home/s2430014/research/enhance-cardsformer-dev/HearthstoneAICompetition/SabberStoneCore/SabberStoneCore.csproj : warning NU1903: Package 'Microsoft.NETCore.App' 2.1.0 has a known high severity vulnerability, https://github.com/advisories/GHSA-3w5p-jhp5-c29q [/home/s2430014/research/enhance-cardsformer-dev/HearthstoneAICompetition/core-extensions/SabberStoneBasicAI/SabberStoneAICompetition.csproj]\n",
      "/home/s2430014/research/enhance-cardsformer-dev/HearthstoneAICompetition/SabberStoneCore/SabberStoneCore.csproj : warning NU1902: Package 'Microsoft.NETCore.App' 2.1.0 has a known moderate severity vulnerability, https://github.com/advisories/GHSA-5633-f33j-c6f7 [/home/s2430014/research/enhance-cardsformer-dev/HearthstoneAICompetition/core-extensions/SabberStoneBasicAI/SabberStoneAICompetition.csproj]\n",
      "/home/s2430014/research/enhance-cardsformer-dev/HearthstoneAICompetition/SabberStoneCore/SabberStoneCore.csproj : warning NU1903: Package 'Microsoft.NETCore.App' 2.1.0 has a known high severity vulnerability, https://github.com/advisories/GHSA-6px8-22w5-w334 [/home/s2430014/research/enhance-cardsformer-dev/HearthstoneAICompetition/core-extensions/SabberStoneBasicAI/SabberStoneAICompetition.csproj]\n",
      "/home/s2430014/research/enhance-cardsformer-dev/HearthstoneAICompetition/SabberStoneCore/SabberStoneCore.csproj : warning NU1903: Package 'Microsoft.NETCore.App' 2.1.0 has a known high severity vulnerability, https://github.com/advisories/GHSA-g5vf-38cp-4px9 [/home/s2430014/research/enhance-cardsformer-dev/HearthstoneAICompetition/core-extensions/SabberStoneBasicAI/SabberStoneAICompetition.csproj]\n",
      "/home/s2430014/research/enhance-cardsformer-dev/HearthstoneAICompetition/SabberStoneCore/SabberStoneCore.csproj : warning NU1902: Package 'Microsoft.NETCore.App' 2.1.0 has a known moderate severity vulnerability, https://github.com/advisories/GHSA-vgwq-hfqc-58wv [/home/s2430014/research/enhance-cardsformer-dev/HearthstoneAICompetition/core-extensions/SabberStoneBasicAI/SabberStoneAICompetition.csproj]\n",
      "/home/s2430014/research/enhance-cardsformer-dev/HearthstoneAICompetition/SabberStoneCore/SabberStoneCore.csproj : warning NU1902: Package 'Microsoft.NETCore.App' 2.1.0 has a known moderate severity vulnerability, https://github.com/advisories/GHSA-x5qj-9vmx-7g6g [/home/s2430014/research/enhance-cardsformer-dev/HearthstoneAICompetition/core-extensions/SabberStoneBasicAI/SabberStoneAICompetition.csproj]\n",
      "/home/s2430014/research/enhance-cardsformer-dev/HearthstoneAICompetition/core-extensions/SabberStoneBasicAI/SabberStoneAICompetition.csproj : warning NU1903: Package 'Microsoft.NETCore.App' 2.1.0 has a known high severity vulnerability, https://github.com/advisories/GHSA-2xjx-v99w-gqf3\n",
      "/home/s2430014/research/enhance-cardsformer-dev/HearthstoneAICompetition/core-extensions/SabberStoneBasicAI/SabberStoneAICompetition.csproj : warning NU1902: Package 'Microsoft.NETCore.App' 2.1.0 has a known moderate severity vulnerability, https://github.com/advisories/GHSA-3gp9-h8hw-pxpw\n",
      "/home/s2430014/research/enhance-cardsformer-dev/HearthstoneAICompetition/core-extensions/SabberStoneBasicAI/SabberStoneAICompetition.csproj : warning NU1903: Package 'Microsoft.NETCore.App' 2.1.0 has a known high severity vulnerability, https://github.com/advisories/GHSA-3w5p-jhp5-c29q\n",
      "/home/s2430014/research/enhance-cardsformer-dev/HearthstoneAICompetition/core-extensions/SabberStoneBasicAI/SabberStoneAICompetition.csproj : warning NU1902: Package 'Microsoft.NETCore.App' 2.1.0 has a known moderate severity vulnerability, https://github.com/advisories/GHSA-5633-f33j-c6f7\n",
      "/home/s2430014/research/enhance-cardsformer-dev/HearthstoneAICompetition/core-extensions/SabberStoneBasicAI/SabberStoneAICompetition.csproj : warning NU1903: Package 'Microsoft.NETCore.App' 2.1.0 has a known high severity vulnerability, https://github.com/advisories/GHSA-6px8-22w5-w334\n",
      "/home/s2430014/research/enhance-cardsformer-dev/HearthstoneAICompetition/core-extensions/SabberStoneBasicAI/SabberStoneAICompetition.csproj : warning NU1903: Package 'Microsoft.NETCore.App' 2.1.0 has a known high severity vulnerability, https://github.com/advisories/GHSA-g5vf-38cp-4px9\n",
      "/home/s2430014/research/enhance-cardsformer-dev/HearthstoneAICompetition/core-extensions/SabberStoneBasicAI/SabberStoneAICompetition.csproj : warning NU1902: Package 'Microsoft.NETCore.App' 2.1.0 has a known moderate severity vulnerability, https://github.com/advisories/GHSA-vgwq-hfqc-58wv\n",
      "/home/s2430014/research/enhance-cardsformer-dev/HearthstoneAICompetition/core-extensions/SabberStoneBasicAI/SabberStoneAICompetition.csproj : warning NU1902: Package 'Microsoft.NETCore.App' 2.1.0 has a known moderate severity vulnerability, https://github.com/advisories/GHSA-x5qj-9vmx-7g6g\n",
      "  Restored /home/s2430014/research/enhance-cardsformer-dev/HearthstoneAICompetition/core-extensions/SabberStoneBasicAI/SabberStoneAICompetition.csproj (in 637 ms).\n",
      "  1 of 2 projects are up-to-date for restore.\n",
      "/usr/share/dotnet/sdk/8.0.404/Sdks/Microsoft.NET.Sdk/targets/Microsoft.NET.EolTargetFrameworks.targets(32,5): warning NETSDK1138: The target framework 'netcoreapp2.1' is out of support and will not receive security updates in the future. Please refer to https://aka.ms/dotnet-core-support for more information about the support policy. [/home/s2430014/research/enhance-cardsformer-dev/HearthstoneAICompetition/core-extensions/SabberStoneBasicAI/SabberStoneAICompetition.csproj]\n",
      "/home/s2430014/research/enhance-cardsformer-dev/HearthstoneAICompetition/core-extensions/SabberStoneBasicAI/SabberStoneAICompetition.csproj : warning NU1903: Package 'Microsoft.NETCore.App' 2.1.0 has a known high severity vulnerability, https://github.com/advisories/GHSA-2xjx-v99w-gqf3\n",
      "/home/s2430014/research/enhance-cardsformer-dev/HearthstoneAICompetition/core-extensions/SabberStoneBasicAI/SabberStoneAICompetition.csproj : warning NU1902: Package 'Microsoft.NETCore.App' 2.1.0 has a known moderate severity vulnerability, https://github.com/advisories/GHSA-3gp9-h8hw-pxpw\n",
      "/home/s2430014/research/enhance-cardsformer-dev/HearthstoneAICompetition/core-extensions/SabberStoneBasicAI/SabberStoneAICompetition.csproj : warning NU1903: Package 'Microsoft.NETCore.App' 2.1.0 has a known high severity vulnerability, https://github.com/advisories/GHSA-3w5p-jhp5-c29q\n",
      "/home/s2430014/research/enhance-cardsformer-dev/HearthstoneAICompetition/core-extensions/SabberStoneBasicAI/SabberStoneAICompetition.csproj : warning NU1902: Package 'Microsoft.NETCore.App' 2.1.0 has a known moderate severity vulnerability, https://github.com/advisories/GHSA-5633-f33j-c6f7\n",
      "/home/s2430014/research/enhance-cardsformer-dev/HearthstoneAICompetition/core-extensions/SabberStoneBasicAI/SabberStoneAICompetition.csproj : warning NU1903: Package 'Microsoft.NETCore.App' 2.1.0 has a known high severity vulnerability, https://github.com/advisories/GHSA-6px8-22w5-w334\n",
      "/home/s2430014/research/enhance-cardsformer-dev/HearthstoneAICompetition/core-extensions/SabberStoneBasicAI/SabberStoneAICompetition.csproj : warning NU1903: Package 'Microsoft.NETCore.App' 2.1.0 has a known high severity vulnerability, https://github.com/advisories/GHSA-g5vf-38cp-4px9\n",
      "/home/s2430014/research/enhance-cardsformer-dev/HearthstoneAICompetition/core-extensions/SabberStoneBasicAI/SabberStoneAICompetition.csproj : warning NU1902: Package 'Microsoft.NETCore.App' 2.1.0 has a known moderate severity vulnerability, https://github.com/advisories/GHSA-vgwq-hfqc-58wv\n",
      "/home/s2430014/research/enhance-cardsformer-dev/HearthstoneAICompetition/core-extensions/SabberStoneBasicAI/SabberStoneAICompetition.csproj : warning NU1902: Package 'Microsoft.NETCore.App' 2.1.0 has a known moderate severity vulnerability, https://github.com/advisories/GHSA-x5qj-9vmx-7g6g\n",
      "/home/s2430014/research/enhance-cardsformer-dev/HearthstoneAICompetition/SabberStoneCore/SabberStoneCore.csproj : warning NU1903: Package 'Microsoft.NETCore.App' 2.1.0 has a known high severity vulnerability, https://github.com/advisories/GHSA-2xjx-v99w-gqf3\n",
      "/home/s2430014/research/enhance-cardsformer-dev/HearthstoneAICompetition/SabberStoneCore/SabberStoneCore.csproj : warning NU1902: Package 'Microsoft.NETCore.App' 2.1.0 has a known moderate severity vulnerability, https://github.com/advisories/GHSA-3gp9-h8hw-pxpw\n",
      "/home/s2430014/research/enhance-cardsformer-dev/HearthstoneAICompetition/SabberStoneCore/SabberStoneCore.csproj : warning NU1903: Package 'Microsoft.NETCore.App' 2.1.0 has a known high severity vulnerability, https://github.com/advisories/GHSA-3w5p-jhp5-c29q\n",
      "/home/s2430014/research/enhance-cardsformer-dev/HearthstoneAICompetition/SabberStoneCore/SabberStoneCore.csproj : warning NU1902: Package 'Microsoft.NETCore.App' 2.1.0 has a known moderate severity vulnerability, https://github.com/advisories/GHSA-5633-f33j-c6f7\n",
      "/home/s2430014/research/enhance-cardsformer-dev/HearthstoneAICompetition/SabberStoneCore/SabberStoneCore.csproj : warning NU1903: Package 'Microsoft.NETCore.App' 2.1.0 has a known high severity vulnerability, https://github.com/advisories/GHSA-6px8-22w5-w334\n",
      "/home/s2430014/research/enhance-cardsformer-dev/HearthstoneAICompetition/SabberStoneCore/SabberStoneCore.csproj : warning NU1903: Package 'Microsoft.NETCore.App' 2.1.0 has a known high severity vulnerability, https://github.com/advisories/GHSA-g5vf-38cp-4px9\n",
      "/home/s2430014/research/enhance-cardsformer-dev/HearthstoneAICompetition/SabberStoneCore/SabberStoneCore.csproj : warning NU1902: Package 'Microsoft.NETCore.App' 2.1.0 has a known moderate severity vulnerability, https://github.com/advisories/GHSA-vgwq-hfqc-58wv\n",
      "/home/s2430014/research/enhance-cardsformer-dev/HearthstoneAICompetition/SabberStoneCore/SabberStoneCore.csproj : warning NU1902: Package 'Microsoft.NETCore.App' 2.1.0 has a known moderate severity vulnerability, https://github.com/advisories/GHSA-x5qj-9vmx-7g6g\n",
      "  SabberStoneCore -> /home/s2430014/research/enhance-cardsformer-dev/HearthstoneAICompetition/SabberStoneCore/bin/Release/netcoreapp2.1/SabberStoneCore.dll\n",
      "/home/s2430014/research/enhance-cardsformer-dev/HearthstoneAICompetition/SabberStoneCore/SabberStoneCore.csproj : warning NU1903: Package 'Microsoft.NETCore.App' 2.1.0 has a known high severity vulnerability, https://github.com/advisories/GHSA-2xjx-v99w-gqf3\n",
      "/home/s2430014/research/enhance-cardsformer-dev/HearthstoneAICompetition/SabberStoneCore/SabberStoneCore.csproj : warning NU1902: Package 'Microsoft.NETCore.App' 2.1.0 has a known moderate severity vulnerability, https://github.com/advisories/GHSA-3gp9-h8hw-pxpw\n",
      "/home/s2430014/research/enhance-cardsformer-dev/HearthstoneAICompetition/SabberStoneCore/SabberStoneCore.csproj : warning NU1903: Package 'Microsoft.NETCore.App' 2.1.0 has a known high severity vulnerability, https://github.com/advisories/GHSA-3w5p-jhp5-c29q\n",
      "/home/s2430014/research/enhance-cardsformer-dev/HearthstoneAICompetition/SabberStoneCore/SabberStoneCore.csproj : warning NU1902: Package 'Microsoft.NETCore.App' 2.1.0 has a known moderate severity vulnerability, https://github.com/advisories/GHSA-5633-f33j-c6f7\n",
      "/home/s2430014/research/enhance-cardsformer-dev/HearthstoneAICompetition/SabberStoneCore/SabberStoneCore.csproj : warning NU1903: Package 'Microsoft.NETCore.App' 2.1.0 has a known high severity vulnerability, https://github.com/advisories/GHSA-6px8-22w5-w334\n",
      "/home/s2430014/research/enhance-cardsformer-dev/HearthstoneAICompetition/SabberStoneCore/SabberStoneCore.csproj : warning NU1903: Package 'Microsoft.NETCore.App' 2.1.0 has a known high severity vulnerability, https://github.com/advisories/GHSA-g5vf-38cp-4px9\n",
      "/home/s2430014/research/enhance-cardsformer-dev/HearthstoneAICompetition/SabberStoneCore/SabberStoneCore.csproj : warning NU1902: Package 'Microsoft.NETCore.App' 2.1.0 has a known moderate severity vulnerability, https://github.com/advisories/GHSA-vgwq-hfqc-58wv\n",
      "/home/s2430014/research/enhance-cardsformer-dev/HearthstoneAICompetition/SabberStoneCore/SabberStoneCore.csproj : warning NU1902: Package 'Microsoft.NETCore.App' 2.1.0 has a known moderate severity vulnerability, https://github.com/advisories/GHSA-x5qj-9vmx-7g6g\n",
      "  SabberStoneAICompetition -> /home/s2430014/research/enhance-cardsformer-dev/HearthstoneAICompetition/core-extensions/SabberStoneBasicAI/bin/Release/netcoreapp2.1/SabberStoneAICompetition.dll\n",
      "\n",
      "Build succeeded.\n",
      "\n",
      "/usr/share/dotnet/sdk/8.0.404/Sdks/Microsoft.NET.Sdk/targets/Microsoft.NET.EolTargetFrameworks.targets(32,5): warning NETSDK1138: The target framework 'netcoreapp2.1' is out of support and will not receive security updates in the future. Please refer to https://aka.ms/dotnet-core-support for more information about the support policy. [/home/s2430014/research/enhance-cardsformer-dev/HearthstoneAICompetition/core-extensions/SabberStoneBasicAI/SabberStoneAICompetition.csproj]\n",
      "/usr/share/dotnet/sdk/8.0.404/Sdks/Microsoft.NET.Sdk/targets/Microsoft.NET.EolTargetFrameworks.targets(32,5): warning NETSDK1138: The target framework 'netcoreapp2.1' is out of support and will not receive security updates in the future. Please refer to https://aka.ms/dotnet-core-support for more information about the support policy. [/home/s2430014/research/enhance-cardsformer-dev/HearthstoneAICompetition/core-extensions/SabberStoneBasicAI/SabberStoneAICompetition.csproj]\n",
      "/home/s2430014/research/enhance-cardsformer-dev/HearthstoneAICompetition/SabberStoneCore/SabberStoneCore.csproj : warning NU1903: Package 'Microsoft.NETCore.App' 2.1.0 has a known high severity vulnerability, https://github.com/advisories/GHSA-2xjx-v99w-gqf3 [/home/s2430014/research/enhance-cardsformer-dev/HearthstoneAICompetition/core-extensions/SabberStoneBasicAI/SabberStoneAICompetition.csproj]\n",
      "/home/s2430014/research/enhance-cardsformer-dev/HearthstoneAICompetition/SabberStoneCore/SabberStoneCore.csproj : warning NU1902: Package 'Microsoft.NETCore.App' 2.1.0 has a known moderate severity vulnerability, https://github.com/advisories/GHSA-3gp9-h8hw-pxpw [/home/s2430014/research/enhance-cardsformer-dev/HearthstoneAICompetition/core-extensions/SabberStoneBasicAI/SabberStoneAICompetition.csproj]\n",
      "/home/s2430014/research/enhance-cardsformer-dev/HearthstoneAICompetition/SabberStoneCore/SabberStoneCore.csproj : warning NU1903: Package 'Microsoft.NETCore.App' 2.1.0 has a known high severity vulnerability, https://github.com/advisories/GHSA-3w5p-jhp5-c29q [/home/s2430014/research/enhance-cardsformer-dev/HearthstoneAICompetition/core-extensions/SabberStoneBasicAI/SabberStoneAICompetition.csproj]\n",
      "/home/s2430014/research/enhance-cardsformer-dev/HearthstoneAICompetition/SabberStoneCore/SabberStoneCore.csproj : warning NU1902: Package 'Microsoft.NETCore.App' 2.1.0 has a known moderate severity vulnerability, https://github.com/advisories/GHSA-5633-f33j-c6f7 [/home/s2430014/research/enhance-cardsformer-dev/HearthstoneAICompetition/core-extensions/SabberStoneBasicAI/SabberStoneAICompetition.csproj]\n",
      "/home/s2430014/research/enhance-cardsformer-dev/HearthstoneAICompetition/SabberStoneCore/SabberStoneCore.csproj : warning NU1903: Package 'Microsoft.NETCore.App' 2.1.0 has a known high severity vulnerability, https://github.com/advisories/GHSA-6px8-22w5-w334 [/home/s2430014/research/enhance-cardsformer-dev/HearthstoneAICompetition/core-extensions/SabberStoneBasicAI/SabberStoneAICompetition.csproj]\n",
      "/home/s2430014/research/enhance-cardsformer-dev/HearthstoneAICompetition/SabberStoneCore/SabberStoneCore.csproj : warning NU1903: Package 'Microsoft.NETCore.App' 2.1.0 has a known high severity vulnerability, https://github.com/advisories/GHSA-g5vf-38cp-4px9 [/home/s2430014/research/enhance-cardsformer-dev/HearthstoneAICompetition/core-extensions/SabberStoneBasicAI/SabberStoneAICompetition.csproj]\n",
      "/home/s2430014/research/enhance-cardsformer-dev/HearthstoneAICompetition/SabberStoneCore/SabberStoneCore.csproj : warning NU1902: Package 'Microsoft.NETCore.App' 2.1.0 has a known moderate severity vulnerability, https://github.com/advisories/GHSA-vgwq-hfqc-58wv [/home/s2430014/research/enhance-cardsformer-dev/HearthstoneAICompetition/core-extensions/SabberStoneBasicAI/SabberStoneAICompetition.csproj]\n",
      "/home/s2430014/research/enhance-cardsformer-dev/HearthstoneAICompetition/SabberStoneCore/SabberStoneCore.csproj : warning NU1902: Package 'Microsoft.NETCore.App' 2.1.0 has a known moderate severity vulnerability, https://github.com/advisories/GHSA-x5qj-9vmx-7g6g [/home/s2430014/research/enhance-cardsformer-dev/HearthstoneAICompetition/core-extensions/SabberStoneBasicAI/SabberStoneAICompetition.csproj]\n",
      "/home/s2430014/research/enhance-cardsformer-dev/HearthstoneAICompetition/core-extensions/SabberStoneBasicAI/SabberStoneAICompetition.csproj : warning NU1903: Package 'Microsoft.NETCore.App' 2.1.0 has a known high severity vulnerability, https://github.com/advisories/GHSA-2xjx-v99w-gqf3\n",
      "/home/s2430014/research/enhance-cardsformer-dev/HearthstoneAICompetition/core-extensions/SabberStoneBasicAI/SabberStoneAICompetition.csproj : warning NU1902: Package 'Microsoft.NETCore.App' 2.1.0 has a known moderate severity vulnerability, https://github.com/advisories/GHSA-3gp9-h8hw-pxpw\n",
      "/home/s2430014/research/enhance-cardsformer-dev/HearthstoneAICompetition/core-extensions/SabberStoneBasicAI/SabberStoneAICompetition.csproj : warning NU1903: Package 'Microsoft.NETCore.App' 2.1.0 has a known high severity vulnerability, https://github.com/advisories/GHSA-3w5p-jhp5-c29q\n",
      "/home/s2430014/research/enhance-cardsformer-dev/HearthstoneAICompetition/core-extensions/SabberStoneBasicAI/SabberStoneAICompetition.csproj : warning NU1902: Package 'Microsoft.NETCore.App' 2.1.0 has a known moderate severity vulnerability, https://github.com/advisories/GHSA-5633-f33j-c6f7\n",
      "/home/s2430014/research/enhance-cardsformer-dev/HearthstoneAICompetition/core-extensions/SabberStoneBasicAI/SabberStoneAICompetition.csproj : warning NU1903: Package 'Microsoft.NETCore.App' 2.1.0 has a known high severity vulnerability, https://github.com/advisories/GHSA-6px8-22w5-w334\n",
      "/home/s2430014/research/enhance-cardsformer-dev/HearthstoneAICompetition/core-extensions/SabberStoneBasicAI/SabberStoneAICompetition.csproj : warning NU1903: Package 'Microsoft.NETCore.App' 2.1.0 has a known high severity vulnerability, https://github.com/advisories/GHSA-g5vf-38cp-4px9\n",
      "/home/s2430014/research/enhance-cardsformer-dev/HearthstoneAICompetition/core-extensions/SabberStoneBasicAI/SabberStoneAICompetition.csproj : warning NU1902: Package 'Microsoft.NETCore.App' 2.1.0 has a known moderate severity vulnerability, https://github.com/advisories/GHSA-vgwq-hfqc-58wv\n",
      "/home/s2430014/research/enhance-cardsformer-dev/HearthstoneAICompetition/core-extensions/SabberStoneBasicAI/SabberStoneAICompetition.csproj : warning NU1902: Package 'Microsoft.NETCore.App' 2.1.0 has a known moderate severity vulnerability, https://github.com/advisories/GHSA-x5qj-9vmx-7g6g\n",
      "/usr/share/dotnet/sdk/8.0.404/Sdks/Microsoft.NET.Sdk/targets/Microsoft.NET.EolTargetFrameworks.targets(32,5): warning NETSDK1138: The target framework 'netcoreapp2.1' is out of support and will not receive security updates in the future. Please refer to https://aka.ms/dotnet-core-support for more information about the support policy. [/home/s2430014/research/enhance-cardsformer-dev/HearthstoneAICompetition/core-extensions/SabberStoneBasicAI/SabberStoneAICompetition.csproj]\n",
      "/home/s2430014/research/enhance-cardsformer-dev/HearthstoneAICompetition/core-extensions/SabberStoneBasicAI/SabberStoneAICompetition.csproj : warning NU1903: Package 'Microsoft.NETCore.App' 2.1.0 has a known high severity vulnerability, https://github.com/advisories/GHSA-2xjx-v99w-gqf3\n",
      "/home/s2430014/research/enhance-cardsformer-dev/HearthstoneAICompetition/core-extensions/SabberStoneBasicAI/SabberStoneAICompetition.csproj : warning NU1902: Package 'Microsoft.NETCore.App' 2.1.0 has a known moderate severity vulnerability, https://github.com/advisories/GHSA-3gp9-h8hw-pxpw\n",
      "/home/s2430014/research/enhance-cardsformer-dev/HearthstoneAICompetition/core-extensions/SabberStoneBasicAI/SabberStoneAICompetition.csproj : warning NU1903: Package 'Microsoft.NETCore.App' 2.1.0 has a known high severity vulnerability, https://github.com/advisories/GHSA-3w5p-jhp5-c29q\n",
      "/home/s2430014/research/enhance-cardsformer-dev/HearthstoneAICompetition/core-extensions/SabberStoneBasicAI/SabberStoneAICompetition.csproj : warning NU1902: Package 'Microsoft.NETCore.App' 2.1.0 has a known moderate severity vulnerability, https://github.com/advisories/GHSA-5633-f33j-c6f7\n",
      "/home/s2430014/research/enhance-cardsformer-dev/HearthstoneAICompetition/core-extensions/SabberStoneBasicAI/SabberStoneAICompetition.csproj : warning NU1903: Package 'Microsoft.NETCore.App' 2.1.0 has a known high severity vulnerability, https://github.com/advisories/GHSA-6px8-22w5-w334\n",
      "/home/s2430014/research/enhance-cardsformer-dev/HearthstoneAICompetition/core-extensions/SabberStoneBasicAI/SabberStoneAICompetition.csproj : warning NU1903: Package 'Microsoft.NETCore.App' 2.1.0 has a known high severity vulnerability, https://github.com/advisories/GHSA-g5vf-38cp-4px9\n",
      "/home/s2430014/research/enhance-cardsformer-dev/HearthstoneAICompetition/core-extensions/SabberStoneBasicAI/SabberStoneAICompetition.csproj : warning NU1902: Package 'Microsoft.NETCore.App' 2.1.0 has a known moderate severity vulnerability, https://github.com/advisories/GHSA-vgwq-hfqc-58wv\n",
      "/home/s2430014/research/enhance-cardsformer-dev/HearthstoneAICompetition/core-extensions/SabberStoneBasicAI/SabberStoneAICompetition.csproj : warning NU1902: Package 'Microsoft.NETCore.App' 2.1.0 has a known moderate severity vulnerability, https://github.com/advisories/GHSA-x5qj-9vmx-7g6g\n",
      "/home/s2430014/research/enhance-cardsformer-dev/HearthstoneAICompetition/SabberStoneCore/SabberStoneCore.csproj : warning NU1903: Package 'Microsoft.NETCore.App' 2.1.0 has a known high severity vulnerability, https://github.com/advisories/GHSA-2xjx-v99w-gqf3\n",
      "/home/s2430014/research/enhance-cardsformer-dev/HearthstoneAICompetition/SabberStoneCore/SabberStoneCore.csproj : warning NU1902: Package 'Microsoft.NETCore.App' 2.1.0 has a known moderate severity vulnerability, https://github.com/advisories/GHSA-3gp9-h8hw-pxpw\n",
      "/home/s2430014/research/enhance-cardsformer-dev/HearthstoneAICompetition/SabberStoneCore/SabberStoneCore.csproj : warning NU1903: Package 'Microsoft.NETCore.App' 2.1.0 has a known high severity vulnerability, https://github.com/advisories/GHSA-3w5p-jhp5-c29q\n",
      "/home/s2430014/research/enhance-cardsformer-dev/HearthstoneAICompetition/SabberStoneCore/SabberStoneCore.csproj : warning NU1902: Package 'Microsoft.NETCore.App' 2.1.0 has a known moderate severity vulnerability, https://github.com/advisories/GHSA-5633-f33j-c6f7\n",
      "/home/s2430014/research/enhance-cardsformer-dev/HearthstoneAICompetition/SabberStoneCore/SabberStoneCore.csproj : warning NU1903: Package 'Microsoft.NETCore.App' 2.1.0 has a known high severity vulnerability, https://github.com/advisories/GHSA-6px8-22w5-w334\n",
      "/home/s2430014/research/enhance-cardsformer-dev/HearthstoneAICompetition/SabberStoneCore/SabberStoneCore.csproj : warning NU1903: Package 'Microsoft.NETCore.App' 2.1.0 has a known high severity vulnerability, https://github.com/advisories/GHSA-g5vf-38cp-4px9\n",
      "/home/s2430014/research/enhance-cardsformer-dev/HearthstoneAICompetition/SabberStoneCore/SabberStoneCore.csproj : warning NU1902: Package 'Microsoft.NETCore.App' 2.1.0 has a known moderate severity vulnerability, https://github.com/advisories/GHSA-vgwq-hfqc-58wv\n",
      "/home/s2430014/research/enhance-cardsformer-dev/HearthstoneAICompetition/SabberStoneCore/SabberStoneCore.csproj : warning NU1902: Package 'Microsoft.NETCore.App' 2.1.0 has a known moderate severity vulnerability, https://github.com/advisories/GHSA-x5qj-9vmx-7g6g\n",
      "/home/s2430014/research/enhance-cardsformer-dev/HearthstoneAICompetition/SabberStoneCore/SabberStoneCore.csproj : warning NU1903: Package 'Microsoft.NETCore.App' 2.1.0 has a known high severity vulnerability, https://github.com/advisories/GHSA-2xjx-v99w-gqf3\n",
      "/home/s2430014/research/enhance-cardsformer-dev/HearthstoneAICompetition/SabberStoneCore/SabberStoneCore.csproj : warning NU1902: Package 'Microsoft.NETCore.App' 2.1.0 has a known moderate severity vulnerability, https://github.com/advisories/GHSA-3gp9-h8hw-pxpw\n",
      "/home/s2430014/research/enhance-cardsformer-dev/HearthstoneAICompetition/SabberStoneCore/SabberStoneCore.csproj : warning NU1903: Package 'Microsoft.NETCore.App' 2.1.0 has a known high severity vulnerability, https://github.com/advisories/GHSA-3w5p-jhp5-c29q\n",
      "/home/s2430014/research/enhance-cardsformer-dev/HearthstoneAICompetition/SabberStoneCore/SabberStoneCore.csproj : warning NU1902: Package 'Microsoft.NETCore.App' 2.1.0 has a known moderate severity vulnerability, https://github.com/advisories/GHSA-5633-f33j-c6f7\n",
      "/home/s2430014/research/enhance-cardsformer-dev/HearthstoneAICompetition/SabberStoneCore/SabberStoneCore.csproj : warning NU1903: Package 'Microsoft.NETCore.App' 2.1.0 has a known high severity vulnerability, https://github.com/advisories/GHSA-6px8-22w5-w334\n",
      "/home/s2430014/research/enhance-cardsformer-dev/HearthstoneAICompetition/SabberStoneCore/SabberStoneCore.csproj : warning NU1903: Package 'Microsoft.NETCore.App' 2.1.0 has a known high severity vulnerability, https://github.com/advisories/GHSA-g5vf-38cp-4px9\n",
      "/home/s2430014/research/enhance-cardsformer-dev/HearthstoneAICompetition/SabberStoneCore/SabberStoneCore.csproj : warning NU1902: Package 'Microsoft.NETCore.App' 2.1.0 has a known moderate severity vulnerability, https://github.com/advisories/GHSA-vgwq-hfqc-58wv\n",
      "/home/s2430014/research/enhance-cardsformer-dev/HearthstoneAICompetition/SabberStoneCore/SabberStoneCore.csproj : warning NU1902: Package 'Microsoft.NETCore.App' 2.1.0 has a known moderate severity vulnerability, https://github.com/advisories/GHSA-x5qj-9vmx-7g6g\n",
      "    43 Warning(s)\n",
      "    0 Error(s)\n",
      "\n",
      "Time Elapsed 00:00:06.62\n",
      "\n",
      "STDERR: \n"
     ]
    }
   ],
   "source": [
    "result = subprocess.run([\"dotnet\", \"build\", \"./HearthstoneAICompetition/core-extensions/SabberStoneBasicAI\", \"-c\", \"Release\",\"/p:TreatWarningsAsErrors=false\"], capture_output=True, text=True)\n",
    "\n",
    "print(\"Return code:\", result.returncode)\n",
    "print(\"STDOUT:\", result.stdout)\n",
    "print(\"STDERR:\", result.stderr)"
   ]
  },
  {
   "cell_type": "code",
   "execution_count": 15,
   "id": "f92c3c77-59b9-4d12-a1f4-e58944b2b7ec",
   "metadata": {},
   "outputs": [
    {
     "name": "stdout",
     "output_type": "stream",
     "text": [
      "/home/s2430014/research/enhance-cardsformer-dev\n"
     ]
    }
   ],
   "source": [
    "!pwd"
   ]
  },
  {
   "cell_type": "code",
   "execution_count": null,
   "id": "ea8f5b98-181d-424a-b1d2-75e820558888",
   "metadata": {},
   "outputs": [],
   "source": [
    "\"dotnet\" \"build\" \"./HearthstoneAICompetition/core-extensions/SabberStoneBasicAI\" \"-c\" \"Release\""
   ]
  }
 ],
 "metadata": {
  "kernelspec": {
   "display_name": "Python 3 (ipykernel)",
   "language": "python",
   "name": "python3"
  },
  "language_info": {
   "codemirror_mode": {
    "name": "ipython",
    "version": 3
   },
   "file_extension": ".py",
   "mimetype": "text/x-python",
   "name": "python",
   "nbconvert_exporter": "python",
   "pygments_lexer": "ipython3",
   "version": "3.10.13"
  }
 },
 "nbformat": 4,
 "nbformat_minor": 5
}
