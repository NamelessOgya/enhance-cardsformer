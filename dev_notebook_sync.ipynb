{
 "cells": [
  {
   "cell_type": "code",
   "execution_count": 9,
   "id": "ce53d7f0-107e-4071-b9ef-c8fe88cb910b",
   "metadata": {},
   "outputs": [
    {
     "name": "stdout",
     "output_type": "stream",
     "text": [
      "/home/s2430014/research/enhance-cardsformer-dev/Cardsformer\n"
     ]
    },
    {
     "name": "stderr",
     "output_type": "stream",
     "text": [
      "/opt/conda/lib/python3.10/site-packages/IPython/core/magics/osm.py:417: UserWarning: using dhist requires you to install the `pickleshare` library.\n",
      "  self.shell.db['dhist'] = compress_dhist(dhist)[-100:]\n"
     ]
    }
   ],
   "source": [
    "%cd Cardsformer"
   ]
  },
  {
   "cell_type": "code",
   "execution_count": 11,
   "id": "b97823c5-e17a-439b-9ba9-dc19385ac51d",
   "metadata": {},
   "outputs": [
    {
     "name": "stdout",
     "output_type": "stream",
     "text": [
      "coreclr\n"
     ]
    }
   ],
   "source": [
    "import os\n",
    "\n",
    "# 環境変数を設定\n",
    "os.environ[\"PYTHONNET_RUNTIME\"] = \"coreclr\"\n",
    "\n",
    "# 設定した環境変数を取得\n",
    "print(os.environ[\"PYTHONNET_RUNTIME\"])"
   ]
  },
  {
   "cell_type": "code",
   "execution_count": 12,
   "id": "65b69d15-a02d-425e-9215-4fa56aac52d4",
   "metadata": {},
   "outputs": [],
   "source": [
    "from Env.EnvWrapper import Environment\n",
    "from Env.Hearthstone import Hearthstone"
   ]
  },
  {
   "cell_type": "code",
   "execution_count": 223,
   "id": "c1f4a7f5-43e4-4363-8140-ee35aef71f80",
   "metadata": {},
   "outputs": [],
   "source": [
    "from experiment.util.model_util import load_prediction_model, load_policy_model, load_encoder\n",
    "from experiment.util.data_util  import EvalPredictionDataset"
   ]
  },
  {
   "cell_type": "code",
   "execution_count": 25,
   "id": "b4f351fd-e393-4104-9db3-2454d778ab11",
   "metadata": {},
   "outputs": [],
   "source": [
    "import torch"
   ]
  },
  {
   "cell_type": "code",
   "execution_count": 30,
   "id": "9e419fd9-8184-4430-b425-fb182fd3f50a",
   "metadata": {},
   "outputs": [],
   "source": [
    "from Model.ModelWrapper import Model"
   ]
  },
  {
   "cell_type": "code",
   "execution_count": 33,
   "id": "9d9c9bcf-87fd-467e-8d6d-3d48f7ad926c",
   "metadata": {},
   "outputs": [],
   "source": [
    "import numpy as np"
   ]
  },
  {
   "cell_type": "code",
   "execution_count": 134,
   "id": "97d271c5-0ddb-4fd1-a58b-0fe0953ee42a",
   "metadata": {},
   "outputs": [
    {
     "name": "stdout",
     "output_type": "stream",
     "text": [
      "4715\n",
      "2\n",
      "max_model is prediction_model4715.tar\n"
     ]
    }
   ],
   "source": [
    "from Algo.utils import create_buffers"
   ]
  },
  {
   "cell_type": "code",
   "execution_count": 248,
   "id": "8376cab9-27b0-4575-a4ef-047de316a3bc",
   "metadata": {},
   "outputs": [],
   "source": [
    "from Algo.utils import get_batch"
   ]
  },
  {
   "cell_type": "code",
   "execution_count": 221,
   "id": "9996a86d-4918-42d5-ac6a-4c47c9b021b1",
   "metadata": {},
   "outputs": [],
   "source": [
    "from experiment.util.data_util import NpyLogData"
   ]
  },
  {
   "cell_type": "code",
   "execution_count": null,
   "id": "123f76d2-74c4-406c-82d7-49927f8b82b9",
   "metadata": {},
   "outputs": [],
   "source": [
    "from "
   ]
  },
  {
   "cell_type": "code",
   "execution_count": 13,
   "id": "f6bd3188-61bd-4f2e-be84-6979dc26cfeb",
   "metadata": {},
   "outputs": [],
   "source": [
    "positions = ['Player1', 'Player2']"
   ]
  },
  {
   "cell_type": "code",
   "execution_count": 14,
   "id": "1e3c05f8-ba53-4cb9-960b-660a29c7ccf6",
   "metadata": {},
   "outputs": [],
   "source": [
    "from torch import multiprocessing as mp\n",
    "ctx = mp.get_context('spawn')"
   ]
  },
  {
   "cell_type": "code",
   "execution_count": 116,
   "id": "df5170bb-8f2d-408b-a6a7-3c6ab0876c8d",
   "metadata": {},
   "outputs": [],
   "source": [
    "class Flags:\n",
    "    def __init__(self):\n",
    "        self.exp_epsilon = 0.3\n",
    "        self.unroll_length = 100\n",
    "        self.num_buffers = 30\n",
    "    \n",
    "flags = Flags()"
   ]
  },
  {
   "cell_type": "code",
   "execution_count": 118,
   "id": "72dab617-3d3e-44c5-b169-fd16e7c2822f",
   "metadata": {},
   "outputs": [],
   "source": [
    "def simulate_game():\n",
    "    while True:\n",
    "        num_options = len(options)\n",
    "        if num_options == 1:\n",
    "            action = options[0]\n",
    "        else:\n",
    "            hand_card_embed = encoder.encode(obs['hand_card_names'])\n",
    "            minion_embed = encoder.encode(obs['minion_names'])\n",
    "            weapon_embed = encoder.encode(obs['weapon_names'])\n",
    "            secret_embed = encoder.encode(obs['secret_names'])\n",
    "            with torch.no_grad():\n",
    "                next_state = prediction_model([hand_card_embed, minion_embed, weapon_embed, obs['hand_card_scalar_batch'], obs['minion_scalar_batch'], obs['hero_scalar_batch']])\n",
    "            obs['next_minion_scalar'] = next_state[0]\n",
    "            obs['next_hero_scalar'] = next_state[1]\n",
    "            with torch.no_grad():\n",
    "                agent_output = model.forward(hand_card_embed, minion_embed, secret_embed, weapon_embed, obs, num_options, actor = True)\n",
    "            agent_output = agent_output.argmax()\n",
    "            if np.random.rand() < flags.exp_epsilon:\n",
    "                _action_idx = torch.randint(len(options), (1, ))[0].item()\n",
    "            else:\n",
    "                _action_idx = int(agent_output.cpu().detach().numpy())\n",
    "            \n",
    "            assert isinstance(_action_idx, int), f\"_action_idx の型が int ではありません type: {type(_action_idx)}, _action_idx: {_action_idx}\"\n",
    "            action = options[_action_idx]\n",
    "            hand_card_embed_buf[position].append(hand_card_embed)\n",
    "            minion_embed_buf[position].append(minion_embed)\n",
    "            weapon_embed_buf[position].append(weapon_embed)\n",
    "            secret_embed_buf[position].append(secret_embed)\n",
    "            hand_card_scalar_buf[position].append(obs[\"hand_card_scalar_batch\"][_action_idx])\n",
    "            minion_scalar_buf[position].append(obs[\"minion_scalar_batch\"][_action_idx])\n",
    "            hero_scalar_buf[position].append(obs[\"hero_scalar_batch\"][_action_idx])\n",
    "            next_minion_scalar_buf[position].append(obs['next_minion_scalar'][_action_idx])\n",
    "            next_hero_scalar_buf[position].append(obs['next_hero_scalar'][_action_idx])\n",
    "            # save key info buf here\n",
    "            size[position] += 1\n",
    "        \n",
    "        position, obs, options, done, episode_return, _ = env.step(action)\n",
    "        if done:\n",
    "            for p in positions:\n",
    "                diff = size[p] - len(target_buf[p])\n",
    "                if diff > 0:\n",
    "                    done_buf[p].extend([False for _ in range(diff-1)])\n",
    "                    done_buf[p].append(True)\n",
    "                    episode_return = episode_return if p == 'Player1' else -episode_return\n",
    "                    episode_return_buf[p].extend([0.0 for _ in range(diff-1)])\n",
    "                    episode_return_buf[p].append(episode_return)\n",
    "                    target_buf[p].extend([episode_return for _ in range(diff)])\n",
    "            break\n",
    "        # 一試合終了\n",
    "\n",
    "    return "
   ]
  },
  {
   "cell_type": "code",
   "execution_count": 119,
   "id": "bf7fb631-89e0-420c-bcd0-ee23324ae475",
   "metadata": {},
   "outputs": [],
   "source": [
    "def write_in_buffer():\n",
    "    for p in positions:\n",
    "        while size[p] > T: \n",
    "            index = free_queue[p].get()\n",
    "            if index is None:\n",
    "                break\n",
    "            for t in range(T):\n",
    "                buffers[p]['done'][index][t, ...] = done_buf[p][t]\n",
    "                buffers[p]['episode_return'][index][t, ...] = episode_return_buf[p][t]\n",
    "                buffers[p]['target'][index][t, ...] = target_buf[p][t]\n",
    "                buffers[p]['hand_card_embed'][index][t, ...] = hand_card_embed_buf[p][t]\n",
    "                buffers[p]['minion_embed'][index][t, ...] = minion_embed_buf[p][t]\n",
    "                buffers[p]['weapon_embed'][index][t, ...] = weapon_embed_buf[p][t]\n",
    "                buffers[p]['secret_embed'][index][t, ...] = secret_embed_buf[p][t]\n",
    "                buffers[p]['hand_card_scalar'][index][t, ...] =\thand_card_scalar_buf[p][t] #次元を変更したことによるエラー\n",
    "                buffers[p]['minion_scalar'][index][t, ...] = minion_scalar_buf[p][t]\n",
    "                buffers[p]['hero_scalar'][index][t, ...] = hero_scalar_buf[p][t]\n",
    "                buffers[p]['next_minion_scalar'][index][t, ...] = next_minion_scalar_buf[p][t]\n",
    "                buffers[p]['next_hero_scalar'][index][t, ...] = next_hero_scalar_buf[p][t]\n",
    "            full_queue[p].put(index)\n",
    "            done_buf[p] = done_buf[p][T:]\n",
    "            episode_return_buf[p] = episode_return_buf[p][T:]\n",
    "            hand_card_embed_buf[p] = hand_card_embed_buf[p][T:]\n",
    "            minion_embed_buf[p] = minion_embed_buf[p][T:]\n",
    "            weapon_embed_buf[p] = weapon_embed_buf[p][T:]\n",
    "            secret_embed_buf[p] = secret_embed_buf[p][T:]\n",
    "            hand_card_scalar_buf[p] = hand_card_scalar_buf[p][T:]\n",
    "            minion_scalar_buf[p] = minion_scalar_buf[p][T:]\n",
    "            hero_scalar_buf[p] = hero_scalar_buf[p][T:]\n",
    "            target_buf[p] = target_buf[p][T:]\n",
    "            next_minion_scalar_buf[p] = next_minion_scalar_buf[p][T:]\n",
    "            next_hero_scalar_buf[p] = next_hero_scalar_buf[p][T:]\n",
    "            \n",
    "            size[p] -= T"
   ]
  },
  {
   "cell_type": "code",
   "execution_count": 170,
   "id": "82d41668-9ca2-4285-b8ad-f97a81c13a28",
   "metadata": {},
   "outputs": [],
   "source": [
    "device = \"cpu\""
   ]
  },
  {
   "cell_type": "code",
   "execution_count": 173,
   "id": "d719c16f-898c-4951-924e-dc54873512b1",
   "metadata": {},
   "outputs": [],
   "source": [
    "# modelに渡されるのはなに？ ->いったんpolicy modelわたしとくか\n",
    "model = Model(device=device)"
   ]
  },
  {
   "cell_type": "code",
   "execution_count": 174,
   "id": "7ef3aa96-1f04-46f1-85b9-9adfa8d1d19c",
   "metadata": {},
   "outputs": [
    {
     "name": "stderr",
     "output_type": "stream",
     "text": [
      "/opt/conda/lib/python3.10/site-packages/torch/nn/modules/transformer.py:286: UserWarning: enable_nested_tensor is True, but self.use_nested_tensor is False because encoder_layer.self_attn.batch_first was not True(use batch_first for better inference performance)\n",
      "  warnings.warn(f\"enable_nested_tensor is True, but self.use_nested_tensor is False because {why_not_sparsity_fast_path}\")\n"
     ]
    },
    {
     "name": "stdout",
     "output_type": "stream",
     "text": [
      "the game ends\n",
      "the game ends\n",
      "the game ends\n",
      "0\n",
      "0\n",
      "the game ends\n",
      "1\n",
      "1\n",
      "the game ends\n",
      "the game ends\n",
      "2\n",
      "the game ends\n",
      "2\n",
      "the game ends\n",
      "3\n",
      "the game ends\n",
      "3\n",
      "the game ends\n",
      "4\n",
      "the game ends\n",
      "4\n",
      "the game ends\n",
      "5\n",
      "the game ends\n",
      "5\n",
      "the game ends\n",
      "6\n",
      "the game ends\n",
      "7\n",
      "6\n",
      "the game ends\n",
      "7\n",
      "the game ends\n",
      "the game ends\n",
      "8\n",
      "the game ends\n",
      "8\n",
      "the game ends\n",
      "9\n",
      "the game ends\n",
      "10\n",
      "9\n",
      "the game ends\n",
      "the game ends\n",
      "10\n",
      "the game ends\n",
      "11\n",
      "11\n",
      "the game ends\n",
      "the game ends\n",
      "12\n",
      "the game ends\n",
      "13\n",
      "12\n",
      "the game ends\n",
      "14\n",
      "the game ends\n",
      "13\n",
      "the game ends\n",
      "14\n",
      "the game ends\n",
      "15\n",
      "15\n",
      "the game ends\n",
      "the game ends\n",
      "16\n",
      "16\n",
      "the game ends\n",
      "the game ends\n",
      "17\n",
      "the game ends\n",
      "17\n",
      "18\n",
      "the game ends\n",
      "18\n",
      "19\n",
      "the game ends\n",
      "the game ends\n",
      "19\n",
      "20\n",
      "the game ends\n",
      "the game ends\n",
      "21\n",
      "the game ends\n",
      "20\n",
      "the game ends\n",
      "22\n",
      "the game ends\n",
      "21\n",
      "the game ends\n",
      "23\n",
      "the game ends\n",
      "22\n",
      "24\n",
      "the game ends\n",
      "the game ends\n",
      "23\n",
      "25\n",
      "the game ends\n",
      "the game ends\n",
      "24\n",
      "the game ends\n",
      "25\n",
      "26\n",
      "the game ends\n",
      "27\n",
      "the game ends\n",
      "26\n",
      "the game ends\n",
      "28\n",
      "the game ends\n",
      "27\n",
      "the game ends\n",
      "29\n",
      "the game ends\n",
      "28\n",
      "the game ends\n"
     ]
    },
    {
     "ename": "KeyboardInterrupt",
     "evalue": "",
     "output_type": "error",
     "traceback": [
      "\u001b[0;31m---------------------------------------------------------------------------\u001b[0m",
      "\u001b[0;31mKeyboardInterrupt\u001b[0m                         Traceback (most recent call last)",
      "Cell \u001b[0;32mIn[174], line 128\u001b[0m\n\u001b[1;32m    126\u001b[0m \u001b[38;5;28;01mfor\u001b[39;00m p \u001b[38;5;129;01min\u001b[39;00m positions:\n\u001b[1;32m    127\u001b[0m     \u001b[38;5;28;01mwhile\u001b[39;00m size[p] \u001b[38;5;241m>\u001b[39m T: \n\u001b[0;32m--> 128\u001b[0m         index \u001b[38;5;241m=\u001b[39m \u001b[43mfree_queue\u001b[49m\u001b[43m[\u001b[49m\u001b[43mp\u001b[49m\u001b[43m]\u001b[49m\u001b[38;5;241;43m.\u001b[39;49m\u001b[43mget\u001b[49m\u001b[43m(\u001b[49m\u001b[43m)\u001b[49m\n\u001b[1;32m    129\u001b[0m         \u001b[38;5;28mprint\u001b[39m(index)\n\u001b[1;32m    130\u001b[0m         \u001b[38;5;28;01mif\u001b[39;00m index \u001b[38;5;129;01mis\u001b[39;00m \u001b[38;5;28;01mNone\u001b[39;00m:\n",
      "File \u001b[0;32m/opt/conda/lib/python3.10/multiprocessing/queues.py:365\u001b[0m, in \u001b[0;36mSimpleQueue.get\u001b[0;34m(self)\u001b[0m\n\u001b[1;32m    363\u001b[0m \u001b[38;5;28;01mdef\u001b[39;00m \u001b[38;5;21mget\u001b[39m(\u001b[38;5;28mself\u001b[39m):\n\u001b[1;32m    364\u001b[0m     \u001b[38;5;28;01mwith\u001b[39;00m \u001b[38;5;28mself\u001b[39m\u001b[38;5;241m.\u001b[39m_rlock:\n\u001b[0;32m--> 365\u001b[0m         res \u001b[38;5;241m=\u001b[39m \u001b[38;5;28;43mself\u001b[39;49m\u001b[38;5;241;43m.\u001b[39;49m\u001b[43m_reader\u001b[49m\u001b[38;5;241;43m.\u001b[39;49m\u001b[43mrecv_bytes\u001b[49m\u001b[43m(\u001b[49m\u001b[43m)\u001b[49m\n\u001b[1;32m    366\u001b[0m     \u001b[38;5;66;03m# unserialize the data after having released the lock\u001b[39;00m\n\u001b[1;32m    367\u001b[0m     \u001b[38;5;28;01mreturn\u001b[39;00m _ForkingPickler\u001b[38;5;241m.\u001b[39mloads(res)\n",
      "File \u001b[0;32m/opt/conda/lib/python3.10/multiprocessing/connection.py:216\u001b[0m, in \u001b[0;36m_ConnectionBase.recv_bytes\u001b[0;34m(self, maxlength)\u001b[0m\n\u001b[1;32m    214\u001b[0m \u001b[38;5;28;01mif\u001b[39;00m maxlength \u001b[38;5;129;01mis\u001b[39;00m \u001b[38;5;129;01mnot\u001b[39;00m \u001b[38;5;28;01mNone\u001b[39;00m \u001b[38;5;129;01mand\u001b[39;00m maxlength \u001b[38;5;241m<\u001b[39m \u001b[38;5;241m0\u001b[39m:\n\u001b[1;32m    215\u001b[0m     \u001b[38;5;28;01mraise\u001b[39;00m \u001b[38;5;167;01mValueError\u001b[39;00m(\u001b[38;5;124m\"\u001b[39m\u001b[38;5;124mnegative maxlength\u001b[39m\u001b[38;5;124m\"\u001b[39m)\n\u001b[0;32m--> 216\u001b[0m buf \u001b[38;5;241m=\u001b[39m \u001b[38;5;28;43mself\u001b[39;49m\u001b[38;5;241;43m.\u001b[39;49m\u001b[43m_recv_bytes\u001b[49m\u001b[43m(\u001b[49m\u001b[43mmaxlength\u001b[49m\u001b[43m)\u001b[49m\n\u001b[1;32m    217\u001b[0m \u001b[38;5;28;01mif\u001b[39;00m buf \u001b[38;5;129;01mis\u001b[39;00m \u001b[38;5;28;01mNone\u001b[39;00m:\n\u001b[1;32m    218\u001b[0m     \u001b[38;5;28mself\u001b[39m\u001b[38;5;241m.\u001b[39m_bad_message_length()\n",
      "File \u001b[0;32m/opt/conda/lib/python3.10/multiprocessing/connection.py:414\u001b[0m, in \u001b[0;36mConnection._recv_bytes\u001b[0;34m(self, maxsize)\u001b[0m\n\u001b[1;32m    413\u001b[0m \u001b[38;5;28;01mdef\u001b[39;00m \u001b[38;5;21m_recv_bytes\u001b[39m(\u001b[38;5;28mself\u001b[39m, maxsize\u001b[38;5;241m=\u001b[39m\u001b[38;5;28;01mNone\u001b[39;00m):\n\u001b[0;32m--> 414\u001b[0m     buf \u001b[38;5;241m=\u001b[39m \u001b[38;5;28;43mself\u001b[39;49m\u001b[38;5;241;43m.\u001b[39;49m\u001b[43m_recv\u001b[49m\u001b[43m(\u001b[49m\u001b[38;5;241;43m4\u001b[39;49m\u001b[43m)\u001b[49m\n\u001b[1;32m    415\u001b[0m     size, \u001b[38;5;241m=\u001b[39m struct\u001b[38;5;241m.\u001b[39munpack(\u001b[38;5;124m\"\u001b[39m\u001b[38;5;124m!i\u001b[39m\u001b[38;5;124m\"\u001b[39m, buf\u001b[38;5;241m.\u001b[39mgetvalue())\n\u001b[1;32m    416\u001b[0m     \u001b[38;5;28;01mif\u001b[39;00m size \u001b[38;5;241m==\u001b[39m \u001b[38;5;241m-\u001b[39m\u001b[38;5;241m1\u001b[39m:\n",
      "File \u001b[0;32m/opt/conda/lib/python3.10/multiprocessing/connection.py:379\u001b[0m, in \u001b[0;36mConnection._recv\u001b[0;34m(self, size, read)\u001b[0m\n\u001b[1;32m    377\u001b[0m remaining \u001b[38;5;241m=\u001b[39m size\n\u001b[1;32m    378\u001b[0m \u001b[38;5;28;01mwhile\u001b[39;00m remaining \u001b[38;5;241m>\u001b[39m \u001b[38;5;241m0\u001b[39m:\n\u001b[0;32m--> 379\u001b[0m     chunk \u001b[38;5;241m=\u001b[39m \u001b[43mread\u001b[49m\u001b[43m(\u001b[49m\u001b[43mhandle\u001b[49m\u001b[43m,\u001b[49m\u001b[43m \u001b[49m\u001b[43mremaining\u001b[49m\u001b[43m)\u001b[49m\n\u001b[1;32m    380\u001b[0m     n \u001b[38;5;241m=\u001b[39m \u001b[38;5;28mlen\u001b[39m(chunk)\n\u001b[1;32m    381\u001b[0m     \u001b[38;5;28;01mif\u001b[39;00m n \u001b[38;5;241m==\u001b[39m \u001b[38;5;241m0\u001b[39m:\n",
      "\u001b[0;31mKeyboardInterrupt\u001b[0m: "
     ]
    }
   ],
   "source": [
    "# queueはただの辞書？\n",
    "\n",
    "buffers = create_buffers(flags, device_iterator)\n",
    "buffers = buffers[\"cpu\"]\n",
    "\n",
    "device_iterator = ['cpu']\n",
    "\n",
    "free_queue = {}\n",
    "full_queue = {}\n",
    "for device in device_iterator:\n",
    "    _free_queue = {\n",
    "        'Player1': ctx.SimpleQueue(),\n",
    "        'Player2': ctx.SimpleQueue()\n",
    "    }\n",
    "    _full_queue = {\n",
    "        'Player1': ctx.SimpleQueue(),\n",
    "        'Player2': ctx.SimpleQueue()\n",
    "    }\n",
    "    free_queue[device] = _free_queue\n",
    "    full_queue[device] = _full_queue\n",
    "\n",
    "for device in device_iterator:\n",
    "    for m in range(flags.num_buffers):\n",
    "        free_queue[device]['Player1'].put(m)\n",
    "        free_queue[device]['Player2'].put(m)\n",
    "\n",
    "# 実際各プロセスに入力されるqueueは以下の値\n",
    "free_queue = free_queue[\"cpu\"]\n",
    "full_queue = full_queue[\"cpu\"]\n",
    "\n",
    "game = Hearthstone()\n",
    "env = Environment(game, device)\n",
    "\n",
    "T = flags.unroll_length\n",
    "\n",
    "# initialize buffers\n",
    "done_buf = {p: [] for p in positions}\n",
    "episode_return_buf = {p: [] for p in positions}\n",
    "target_buf = {p: [] for p in positions}\n",
    "hand_card_embed_buf = {p: [] for p in positions}\n",
    "minion_embed_buf = {p: [] for p in positions}\n",
    "weapon_embed_buf = {p: [] for p in positions}\n",
    "secret_embed_buf = {p: [] for p in positions}\n",
    "hand_card_scalar_buf = {p: [] for p in positions}\n",
    "minion_scalar_buf = {p: [] for p in positions}\n",
    "hero_scalar_buf = {p: [] for p in positions}\n",
    "next_minion_scalar_buf = {p: [] for p in positions}\n",
    "next_hero_scalar_buf = {p: [] for p in positions}\n",
    "size = {p: 0 for p in positions}\n",
    "\n",
    "# load models util関数で共通化できそう\n",
    "# tokenizer = AutoTokenizer.from_pretrained(\"sentence-transformers/all-mpnet-base-v2\")\n",
    "# auto_model = AutoModel.from_pretrained(\"sentence-transformers/all-mpnet-base-v2\")\n",
    "# encoder = Encoder(model=auto_model, tokenizer=tokenizer)\n",
    "# encoder.to(device)\n",
    "# position, obs, options, done, episode_return = env.initial()\n",
    "# prediction_model = PredictionModel()\n",
    "# checkpoint_states = torch.load(f\"./trained_models/prediction_model4715.tar\", map_location='cpu')['model_state_dict'] \n",
    "# new_state_dict = typing.OrderedDict()\n",
    "# for k, v in checkpoint_states.items():\n",
    "#     name = k[7:]\n",
    "#     new_state_dict[name] = v\n",
    "\n",
    "# prediction_model.load_state_dict(new_state_dict)\n",
    "# prediction_model.to(device)\n",
    "# prediction_model.eval()\n",
    "\n",
    "encoder = load_encoder()\n",
    "prediction_model = load_prediction_model(\"./trained_models/prediction_model4715.tar\")\n",
    "position, obs, options, done, episode_return = env.initial()\n",
    "\n",
    "# while True: #永久にroopするためのwhileなので外す\n",
    "# ゲームシミュレーションがスタート\n",
    "for i in range(100):\n",
    "    while True:\n",
    "        num_options = len(options)\n",
    "        if num_options == 1:\n",
    "            action = options[0]\n",
    "        else:\n",
    "            hand_card_embed = encoder.encode(obs['hand_card_names'])\n",
    "            minion_embed = encoder.encode(obs['minion_names'])\n",
    "            weapon_embed = encoder.encode(obs['weapon_names'])\n",
    "            secret_embed = encoder.encode(obs['secret_names'])\n",
    "            with torch.no_grad():\n",
    "                next_state = prediction_model([hand_card_embed, minion_embed, weapon_embed, obs['hand_card_scalar_batch'], obs['minion_scalar_batch'], obs['hero_scalar_batch']])\n",
    "            obs['next_minion_scalar'] = next_state[0]\n",
    "            obs['next_hero_scalar'] = next_state[1]\n",
    "            with torch.no_grad():\n",
    "                agent_output = model.forward(hand_card_embed, minion_embed, secret_embed, weapon_embed, obs, num_options, actor = True)\n",
    "            agent_output = agent_output.argmax()\n",
    "            if np.random.rand() < flags.exp_epsilon:\n",
    "                _action_idx = torch.randint(len(options), (1, ))[0].item()\n",
    "            else:\n",
    "                _action_idx = int(agent_output.cpu().detach().numpy())\n",
    "            \n",
    "            assert isinstance(_action_idx, int), f\"_action_idx の型が int ではありません type: {type(_action_idx)}, _action_idx: {_action_idx}\"\n",
    "            action = options[_action_idx]\n",
    "            hand_card_embed_buf[position].append(hand_card_embed)\n",
    "            minion_embed_buf[position].append(minion_embed)\n",
    "            weapon_embed_buf[position].append(weapon_embed)\n",
    "            secret_embed_buf[position].append(secret_embed)\n",
    "            hand_card_scalar_buf[position].append(obs[\"hand_card_scalar_batch\"][_action_idx])\n",
    "            minion_scalar_buf[position].append(obs[\"minion_scalar_batch\"][_action_idx])\n",
    "            hero_scalar_buf[position].append(obs[\"hero_scalar_batch\"][_action_idx])\n",
    "            next_minion_scalar_buf[position].append(obs['next_minion_scalar'][_action_idx])\n",
    "            next_hero_scalar_buf[position].append(obs['next_hero_scalar'][_action_idx])\n",
    "            # save key info buf here\n",
    "            size[position] += 1\n",
    "        \n",
    "        position, obs, options, done, episode_return, _ = env.step(action)\n",
    "        if done:\n",
    "            for p in positions:\n",
    "                diff = size[p] - len(target_buf[p])\n",
    "                if diff > 0:\n",
    "                    done_buf[p].extend([False for _ in range(diff-1)])\n",
    "                    done_buf[p].append(True)\n",
    "                    episode_return = episode_return if p == 'Player1' else -episode_return\n",
    "                    episode_return_buf[p].extend([0.0 for _ in range(diff-1)])\n",
    "                    episode_return_buf[p].append(episode_return)\n",
    "                    target_buf[p].extend([episode_return for _ in range(diff)])\n",
    "            print(\"the game ends\")\n",
    "            break\n",
    "            \n",
    "        # 一試合終了\n",
    "    \n",
    "    for p in positions:\n",
    "        while size[p] > T: \n",
    "            index = free_queue[p].get()\n",
    "            print(index)\n",
    "            if index is None:\n",
    "                break\n",
    "            for t in range(T):\n",
    "                buffers[p]['done'][index][t, ...] = done_buf[p][t]\n",
    "                buffers[p]['episode_return'][index][t, ...] = episode_return_buf[p][t]\n",
    "                buffers[p]['target'][index][t, ...] = target_buf[p][t]\n",
    "                buffers[p]['hand_card_embed'][index][t, ...] = hand_card_embed_buf[p][t]\n",
    "                buffers[p]['minion_embed'][index][t, ...] = minion_embed_buf[p][t]\n",
    "                buffers[p]['weapon_embed'][index][t, ...] = weapon_embed_buf[p][t]\n",
    "                buffers[p]['secret_embed'][index][t, ...] = secret_embed_buf[p][t]\n",
    "                buffers[p]['hand_card_scalar'][index][t, ...] =\thand_card_scalar_buf[p][t] #次元を変更したことによるエラー\n",
    "                buffers[p]['minion_scalar'][index][t, ...] = minion_scalar_buf[p][t]\n",
    "                buffers[p]['hero_scalar'][index][t, ...] = hero_scalar_buf[p][t]\n",
    "                buffers[p]['next_minion_scalar'][index][t, ...] = next_minion_scalar_buf[p][t]\n",
    "                buffers[p]['next_hero_scalar'][index][t, ...] = next_hero_scalar_buf[p][t]\n",
    "            full_queue[p].put(index)\n",
    "            done_buf[p] = done_buf[p][T:]\n",
    "            episode_return_buf[p] = episode_return_buf[p][T:]\n",
    "            hand_card_embed_buf[p] = hand_card_embed_buf[p][T:]\n",
    "            minion_embed_buf[p] = minion_embed_buf[p][T:]\n",
    "            weapon_embed_buf[p] = weapon_embed_buf[p][T:]\n",
    "            secret_embed_buf[p] = secret_embed_buf[p][T:]\n",
    "            hand_card_scalar_buf[p] = hand_card_scalar_buf[p][T:]\n",
    "            minion_scalar_buf[p] = minion_scalar_buf[p][T:]\n",
    "            hero_scalar_buf[p] = hero_scalar_buf[p][T:]\n",
    "            target_buf[p] = target_buf[p][T:]\n",
    "            next_minion_scalar_buf[p] = next_minion_scalar_buf[p][T:]\n",
    "            next_hero_scalar_buf[p] = next_hero_scalar_buf[p][T:]\n",
    "            \n",
    "            size[p] -= T"
   ]
  },
  {
   "cell_type": "code",
   "execution_count": 175,
   "id": "0fcf8091-ae99-45db-85ce-c7409f678e3a",
   "metadata": {},
   "outputs": [
    {
     "data": {
      "text/plain": [
       "False"
      ]
     },
     "execution_count": 175,
     "metadata": {},
     "output_type": "execute_result"
    }
   ],
   "source": [
    "free_queue[\"Player1\"].empty()"
   ]
  },
  {
   "cell_type": "code",
   "execution_count": 176,
   "id": "e8f75fc8-4f13-43dc-9f0b-4316f8a2ec40",
   "metadata": {},
   "outputs": [
    {
     "data": {
      "text/plain": [
       "False"
      ]
     },
     "execution_count": 176,
     "metadata": {},
     "output_type": "execute_result"
    }
   ],
   "source": [
    "full_queue[\"Player1\"].empty()"
   ]
  },
  {
   "cell_type": "code",
   "execution_count": 142,
   "id": "50d1836d-9021-40f0-8fa0-27fa0d9ff860",
   "metadata": {},
   "outputs": [
    {
     "data": {
      "text/plain": [
       "1"
      ]
     },
     "execution_count": 142,
     "metadata": {},
     "output_type": "execute_result"
    }
   ],
   "source": [
    "free_queue[\"Player1\"].get()"
   ]
  },
  {
   "cell_type": "code",
   "execution_count": 189,
   "id": "f91dd7be-412e-4976-a870-82036d68e23f",
   "metadata": {},
   "outputs": [
    {
     "data": {
      "text/plain": [
       "9"
      ]
     },
     "execution_count": 189,
     "metadata": {},
     "output_type": "execute_result"
    }
   ],
   "source": [
    "full_queue[\"Player1\"].get()"
   ]
  },
  {
   "cell_type": "code",
   "execution_count": 177,
   "id": "8a92a1d5-3615-4469-be69-45c750c2968b",
   "metadata": {},
   "outputs": [
    {
     "data": {
      "text/plain": [
       "30"
      ]
     },
     "execution_count": 177,
     "metadata": {},
     "output_type": "execute_result"
    }
   ],
   "source": [
    "len(buffers[\"Player1\"][\"done\"])"
   ]
  },
  {
   "cell_type": "code",
   "execution_count": 207,
   "id": "d7315faa-614b-4024-bf25-b47b437ccd6d",
   "metadata": {},
   "outputs": [
    {
     "data": {
      "text/plain": [
       "30"
      ]
     },
     "execution_count": 207,
     "metadata": {},
     "output_type": "execute_result"
    }
   ],
   "source": [
    "len(buffers[\"Player1\"][\"episode_return\"])"
   ]
  },
  {
   "cell_type": "code",
   "execution_count": 208,
   "id": "a553908b-be8a-44f5-80b8-3799aee26135",
   "metadata": {},
   "outputs": [
    {
     "data": {
      "text/plain": [
       "torch.Size([100])"
      ]
     },
     "execution_count": 208,
     "metadata": {},
     "output_type": "execute_result"
    }
   ],
   "source": [
    "buffers[\"Player1\"][\"episode_return\"][0].shape"
   ]
  },
  {
   "cell_type": "code",
   "execution_count": 209,
   "id": "4e8b5e08-651d-4599-b251-148d9d2149b9",
   "metadata": {},
   "outputs": [
    {
     "data": {
      "text/plain": [
       "tensor([ 0.,  0.,  0.,  0.,  0.,  0.,  0.,  0.,  0.,  0.,  0.,  0.,  0.,  0.,\n",
       "         0.,  0.,  0.,  0.,  0.,  0.,  0.,  0.,  0.,  0.,  0.,  0.,  0.,  0.,\n",
       "         0.,  0.,  0.,  0.,  0.,  0.,  0.,  0.,  0., -1.,  0.,  0.,  0.,  0.,\n",
       "         0.,  0.,  0.,  0.,  0.,  0.,  0.,  0.,  0.,  0.,  0.,  0.,  0.,  0.,\n",
       "         0.,  0.,  0.,  0.,  0.,  0.,  0.,  0.,  0.,  0.,  0.,  0.,  0.,  0.,\n",
       "         0.,  0.,  0.,  0.,  0.,  0.,  0.,  0.,  0.,  0.,  0.,  0.,  0.,  0.,\n",
       "         0.,  0.,  0.,  0.,  0.,  0.,  0., -1.,  0.,  0.,  0.,  0.,  0.,  0.,\n",
       "         0.,  0.])"
      ]
     },
     "execution_count": 209,
     "metadata": {},
     "output_type": "execute_result"
    }
   ],
   "source": [
    "buffers[\"Player1\"][\"episode_return\"][0]"
   ]
  },
  {
   "cell_type": "code",
   "execution_count": 216,
   "id": "fd526166-9554-4ac6-828c-d2d9b01fb668",
   "metadata": {},
   "outputs": [],
   "source": [
    "buffers_2 = create_buffers(flags, device_iterator)\n",
    "buffers_2 = buffers_2[\"cpu\"]"
   ]
  },
  {
   "cell_type": "code",
   "execution_count": 220,
   "id": "560e4ac6-1c90-41d2-8d4a-016645e50579",
   "metadata": {},
   "outputs": [
    {
     "data": {
      "text/plain": [
       "dict_keys(['done', 'episode_return', 'target', 'hand_card_embed', 'minion_embed', 'weapon_embed', 'secret_embed', 'hand_card_scalar', 'minion_scalar', 'hero_scalar', 'next_minion_scalar', 'next_hero_scalar'])"
      ]
     },
     "execution_count": 220,
     "metadata": {},
     "output_type": "execute_result"
    }
   ],
   "source": [
    "buffers_2[\"Player1\"].keys()"
   ]
  },
  {
   "cell_type": "code",
   "execution_count": 222,
   "id": "c2ada07b-2259-47f9-a997-08471b9d07d5",
   "metadata": {},
   "outputs": [],
   "source": [
    "npy_log = NpyLogData()"
   ]
  },
  {
   "cell_type": "code",
   "execution_count": 224,
   "id": "f4cd4443-16db-4a42-9730-ca5024881e88",
   "metadata": {},
   "outputs": [
    {
     "name": "stdout",
     "output_type": "stream",
     "text": [
      "=== load prediction dataset:./off_line_data_vs_ai0.npy ===\n"
     ]
    }
   ],
   "source": [
    "ds = EvalPredictionDataset([\"./off_line_data_vs_ai0.npy\"])"
   ]
  },
  {
   "cell_type": "code",
   "execution_count": 225,
   "id": "d03b23b8-1f28-444e-abb8-cfd1e187ed7b",
   "metadata": {},
   "outputs": [
    {
     "data": {
      "text/plain": [
       "<experiment.util.data_util.EvalPredictionDataset at 0x1406ffcef8b0>"
      ]
     },
     "execution_count": 225,
     "metadata": {},
     "output_type": "execute_result"
    }
   ],
   "source": [
    "ds"
   ]
  },
  {
   "cell_type": "code",
   "execution_count": 270,
   "id": "7bfe5ba1-c318-4f20-9aa5-e09b765a296f",
   "metadata": {},
   "outputs": [
    {
     "data": {
      "text/plain": [
       "dict_keys(['hand_card_names', 'minion_names', 'weapon_names', 'hand_card_scalar', 'minion_scalar', 'hero_scalar', 'next_state_minion_scalar', 'next_state_hero_scalar'])"
      ]
     },
     "execution_count": 270,
     "metadata": {},
     "output_type": "execute_result"
    }
   ],
   "source": [
    "ds.data.keys()"
   ]
  },
  {
   "cell_type": "code",
   "execution_count": 243,
   "id": "85a482e1-57ac-47b6-bede-a41455f4fd22",
   "metadata": {},
   "outputs": [],
   "source": [
    "tr = [i.numpy() for i in  buffers_2[\"Player1\"][\"hand_card_embed\"][0]]"
   ]
  },
  {
   "cell_type": "code",
   "execution_count": 247,
   "id": "ec7ec85f-fe7c-4137-9ae5-1ef02a2dfd9f",
   "metadata": {},
   "outputs": [
    {
     "data": {
      "text/plain": [
       "(11, 768)"
      ]
     },
     "execution_count": 247,
     "metadata": {},
     "output_type": "execute_result"
    }
   ],
   "source": [
    "tr[0].shape"
   ]
  },
  {
   "cell_type": "code",
   "execution_count": 263,
   "id": "4891cc1d-5417-48b0-a5df-7605c7df35eb",
   "metadata": {},
   "outputs": [],
   "source": [
    "d_tmp = buffers[\"Player1\"]"
   ]
  },
  {
   "cell_type": "code",
   "execution_count": 264,
   "id": "d9ab993f-8fc3-4808-a7b4-80b671017605",
   "metadata": {},
   "outputs": [],
   "source": [
    "torch.save(d_tmp, \"tmp.pth\")"
   ]
  },
  {
   "cell_type": "code",
   "execution_count": 265,
   "id": "302c69ef-8daa-49f5-bfb4-de71b5cfc67d",
   "metadata": {},
   "outputs": [],
   "source": [
    "loaded_data = torch.load(\"tmp.pth\")"
   ]
  },
  {
   "cell_type": "code",
   "execution_count": 267,
   "id": "2ef4f362-1f3e-4a39-bbcc-7a5614205514",
   "metadata": {},
   "outputs": [
    {
     "ename": "SyntaxError",
     "evalue": "incomplete input (3845685511.py, line 1)",
     "output_type": "error",
     "traceback": [
      "\u001b[0;36m  Cell \u001b[0;32mIn[267], line 1\u001b[0;36m\u001b[0m\n\u001b[0;31m    tr = [i.numpy() for i in  buffers_2[\"Player1\"][\"hand_card_embed\"]\u001b[0m\n\u001b[0m                                                                     ^\u001b[0m\n\u001b[0;31mSyntaxError\u001b[0m\u001b[0;31m:\u001b[0m incomplete input\n"
     ]
    }
   ],
   "source": [
    "def tranform_batch_to_npy(batch):\n",
    "    tr = [i.numpy() for i in  buffers_2[\"Player1\"][\"hand_card_embed\"]]\n"
   ]
  },
  {
   "cell_type": "code",
   "execution_count": 281,
   "id": "4207f0a4-4a64-457c-8144-cb78e1babe1a",
   "metadata": {},
   "outputs": [
    {
     "data": {
      "text/plain": [
       "torch.Size([100, 14, 9])"
      ]
     },
     "execution_count": 281,
     "metadata": {},
     "output_type": "execute_result"
    }
   ],
   "source": [
    "buffers_2[\"Player1\"][\"next_minion_scalar\"][0].shape"
   ]
  },
  {
   "cell_type": "code",
   "execution_count": 283,
   "id": "80162fcb-baf6-4909-aa39-ba96d02fd3f0",
   "metadata": {},
   "outputs": [
    {
     "data": {
      "text/plain": [
       "66720"
      ]
     },
     "execution_count": 283,
     "metadata": {},
     "output_type": "execute_result"
    }
   ],
   "source": [
    "len(ds.data[\"hand_card_scalar\"])"
   ]
  },
  {
   "cell_type": "code",
   "execution_count": 282,
   "id": "8b799aa5-94ac-40ed-8ee9-8fcae15ef938",
   "metadata": {},
   "outputs": [
    {
     "data": {
      "text/plain": [
       "<experiment.util.data_util.EvalPredictionDataset at 0x1406ffcef8b0>"
      ]
     },
     "execution_count": 282,
     "metadata": {},
     "output_type": "execute_result"
    }
   ],
   "source": [
    "ds"
   ]
  },
  {
   "cell_type": "code",
   "execution_count": null,
   "id": "ebc007bb-01af-4c70-97fa-54d8390c8a5b",
   "metadata": {},
   "outputs": [],
   "source": []
  }
 ],
 "metadata": {
  "kernelspec": {
   "display_name": "Python 3 (ipykernel)",
   "language": "python",
   "name": "python3"
  },
  "language_info": {
   "codemirror_mode": {
    "name": "ipython",
    "version": 3
   },
   "file_extension": ".py",
   "mimetype": "text/x-python",
   "name": "python",
   "nbconvert_exporter": "python",
   "pygments_lexer": "ipython3",
   "version": "3.10.13"
  }
 },
 "nbformat": 4,
 "nbformat_minor": 5
}
